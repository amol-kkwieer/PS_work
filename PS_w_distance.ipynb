{
 "cells": [
  {
   "cell_type": "code",
   "execution_count": 1,
   "id": "f656b975",
   "metadata": {},
   "outputs": [],
   "source": [
    "import numpy as np\n",
    "import pandas as pd\n",
    "from scipy.stats import wasserstein_distance"
   ]
  },
  {
   "cell_type": "code",
   "execution_count": 2,
   "id": "01aa5caa",
   "metadata": {},
   "outputs": [],
   "source": [
    "N = 12\n",
    "M = 5\n",
    "A = 5\n",
    "K = 5"
   ]
  },
  {
   "cell_type": "code",
   "execution_count": 3,
   "id": "0c21417f",
   "metadata": {},
   "outputs": [],
   "source": [
    "# Define the headers\n",
    "headers = ['K value', 'model_A_w_dist', 'model_B_w_dist']\n",
    "\n",
    "# Create an empty 5x3 matrix\n",
    "matrix = [[0 for _ in range(3)] for _ in range(K)]\n",
    "\n",
    "# Insert the headers at the beginning of the matrix\n",
    "matrix.insert(0, headers)\n",
    "\n",
    "for i in range(1, K+1):\n",
    "    # Generate random training dataset with 12 data points\n",
    "    X_train = np.random.standard_normal(size=N)\n",
    "    # Generate random test dataset with 5 data points\n",
    "    X_test = np.random.standard_normal(size=M)\n",
    "\n",
    "    X_emp_normal = np.random.standard_normal(size=A)\n",
    "    X_emp_train = np.random.choice(X_train, size=A, replace=True, p=None)\n",
    "\n",
    "    # Calculate Wasserstein distance between train_data and test_data\n",
    "    model_A_w_dist = wasserstein_distance(X_emp_normal, X_test)\n",
    "    model_B_w_dist = wasserstein_distance(X_emp_train, X_test)\n",
    "    \n",
    "    matrix[i][0] = i\n",
    "    matrix[i][1] = model_A_w_dist\n",
    "    matrix[i][2] = model_B_w_dist"
   ]
  },
  {
   "cell_type": "code",
   "execution_count": 4,
   "id": "750cde9d",
   "metadata": {},
   "outputs": [
    {
     "name": "stdout",
     "output_type": "stream",
     "text": [
      "Matrix:\n",
      "['K value', 'model_A_w_dist', 'model_B_w_dist']\n",
      "[1, 0.6449764944097974, 0.552283867037301]\n",
      "[2, 1.0838540022942442, 0.7260434089690011]\n",
      "[3, 0.9230647622492958, 1.015082649268239]\n",
      "[4, 0.6028138251978258, 1.740343093126031]\n",
      "[5, 0.28555423811027775, 0.40696687900332323]\n"
     ]
    }
   ],
   "source": [
    "# Print the matrix\n",
    "print(\"Matrix:\")\n",
    "for row in matrix:\n",
    "    print(row)"
   ]
  },
  {
   "cell_type": "code",
   "execution_count": null,
   "id": "3815b24d",
   "metadata": {},
   "outputs": [],
   "source": []
  }
 ],
 "metadata": {
  "kernelspec": {
   "display_name": "Python 3 (ipykernel)",
   "language": "python",
   "name": "python3"
  },
  "language_info": {
   "codemirror_mode": {
    "name": "ipython",
    "version": 3
   },
   "file_extension": ".py",
   "mimetype": "text/x-python",
   "name": "python",
   "nbconvert_exporter": "python",
   "pygments_lexer": "ipython3",
   "version": "3.9.7"
  }
 },
 "nbformat": 4,
 "nbformat_minor": 5
}
